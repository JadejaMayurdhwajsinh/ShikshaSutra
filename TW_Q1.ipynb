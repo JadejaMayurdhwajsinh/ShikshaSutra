{
 "cells": [
  {
   "cell_type": "markdown",
   "id": "241c9bdc-b943-4bda-8a57-483205e15a5e",
   "metadata": {},
   "source": [
    "<h4>Using suitable example, explain how to create individual stored procedures for performing – insert, update, delete, search – operations in a MySQL database table tblStudent inside the db dbStudents using Python. Show usage of these 4 stored procedures in Python. Note: consider columns: rollno, name, c_m, cpp_m, py_m. <h4></h4>"
   ]
  },
  {
   "cell_type": "code",
   "execution_count": 1,
   "id": "8bda31c0-99ff-45e2-a620-35125ae3a5f3",
   "metadata": {},
   "outputs": [
    {
     "name": "stdout",
     "output_type": "stream",
     "text": [
      "INSERTED CMySQLCursor: insert into tblstudent(rollno, name, cma..\n"
     ]
    }
   ],
   "source": [
    "from mysql.connector import connect,Error\n",
    "\n",
    "try:\n",
    "    con = connect(host = \"localhost\", user = \"root\", password = \"jadeja6\", database = \"dbstudent\")\n",
    "    cursor = con.cursor()\n",
    "    sql = \"insert into tblstudent(rollno, name, cmarks, cppmarks, pythonmarks) values (%s, %s, %s, %s, %s)\"\n",
    "    values=[\n",
    "        (1,\"Mayur\",70,90,70),\n",
    "        (2,\"Keval\",90,80,85),\n",
    "        (3,\"Krutik\",90,60,40),\n",
    "        (4,\"kartik\",70,40,90),\n",
    "        (5,\"rudrik\",70,90,50),\n",
    "        (6,\"harsh\",70,70,60),\n",
    "        (7,\"purnak\",70,10,10),\n",
    "        (8,\"kris\",80,80,90),\n",
    "        (9,\"kunal\",70,50,50),\n",
    "        (10,\"omkar\",50,80,70)\n",
    "    ]\n",
    "    cursor.executemany(sql,values)\n",
    "    con.commit()\n",
    "    print(\"INSERTED\",cursor)\n",
    "    \n",
    "except Error as e:\n",
    "    print(e)\n",
    "finally:\n",
    "    cursor.close()\n",
    "    con.close()"
   ]
  },
  {
   "cell_type": "markdown",
   "id": "69019fe0-61dc-4824-b51a-13073c599de7",
   "metadata": {},
   "source": [
    "<h5> INSERT PROCEDURE </h5>"
   ]
  },
  {
   "cell_type": "code",
   "execution_count": 2,
   "id": "5f067c4e-1081-445d-8984-7b74d1ee3efd",
   "metadata": {},
   "outputs": [
    {
     "name": "stdout",
     "output_type": "stream",
     "text": [
      "Procedure Created...\n"
     ]
    }
   ],
   "source": [
    "from mysql.connector import connect,Error\n",
    "\n",
    "try:\n",
    "    con = connect(host = \"localhost\", user = \"root\", password = \"jadeja6\", database = \"dbstudent\")\n",
    "    cursor = con.cursor()\n",
    "    sql = \"\"\" create procedure Insert1(in r_no int,in s_name varchar(30),in c_m int,in cpp_m int,in py_m int)\n",
    "    begin\n",
    "    insert into tblstudent (rollno, name, cmarks, cppmarks, pythonmarks) values(r_no,s_name,c_m,cpp_m,py_m);\n",
    "    end\"\"\"\n",
    "    cursor.execute(sql)\n",
    "    print(\"Procedure Created...\")\n",
    "except Error as e:\n",
    "    print(e)\n",
    "finally:\n",
    "    cursor.close()\n",
    "    con.close()"
   ]
  },
  {
   "cell_type": "code",
   "execution_count": 3,
   "id": "57b8f142-c750-4f85-badd-08029deeaba5",
   "metadata": {},
   "outputs": [
    {
     "name": "stdin",
     "output_type": "stream",
     "text": [
      "Enter rollno :  11\n",
      "Enter name :  sivaay\n",
      "Enter c marks :  90\n",
      "Enter cpp marks :  85\n",
      "Enter python  marks :  90\n"
     ]
    },
    {
     "name": "stdout",
     "output_type": "stream",
     "text": [
      "Record Inserted...\n"
     ]
    }
   ],
   "source": [
    "from mysql.connector import connect,Error\n",
    "\n",
    "try:\n",
    "    con = connect(host = \"localhost\", user = \"root\", password = \"jadeja6\", database = \"dbstudent\")\n",
    "    cursor = con.cursor()\n",
    "    rno = int(input(\"Enter rollno : \"))\n",
    "    sname = input(\"Enter name : \")\n",
    "    cmarks = int(input(\"Enter c marks : \"))\n",
    "    cppmarks = int(input(\"Enter cpp marks : \"))\n",
    "    pymarks = int(input(\"Enter python  marks : \"))\n",
    "    cursor.callproc('Insert1',(rno,sname,cmarks,cppmarks,pymarks))\n",
    "    con.commit()\n",
    "    print(\"Record Inserted...\")\n",
    "except Error as e:\n",
    "    print(e)\n",
    "finally:\n",
    "    cursor.close()\n",
    "    con.close()"
   ]
  },
  {
   "cell_type": "markdown",
   "id": "dd385c76-8472-4c28-854f-c351feace74c",
   "metadata": {},
   "source": [
    "<h5>UPDATE PROCEDURE</h5>"
   ]
  },
  {
   "cell_type": "code",
   "execution_count": 4,
   "id": "9f4954ca-d741-480a-ae0e-a1852099ab65",
   "metadata": {},
   "outputs": [
    {
     "name": "stdout",
     "output_type": "stream",
     "text": [
      "Procedure Created...\n"
     ]
    }
   ],
   "source": [
    "from mysql.connector import connect,Error\n",
    "\n",
    "try:\n",
    "    con = connect(host = \"localhost\", user = \"root\", password = \"jadeja6\", database = \"dbstudent\")\n",
    "    cursor = con.cursor()\n",
    "    sql = \"\"\" create procedure Update1(in r_no int,in s_name varchar(30),in c int,in cpp int,in py int)\n",
    "    begin\n",
    "    Update tblstudent set name = s_name,cmarks=c, cppmarks = cpp, pythonmarks = py where rollno = r_no;\n",
    "    end\"\"\"\n",
    "    cursor.execute(sql)\n",
    "    print(\"Procedure Created...\")\n",
    "except Error as e:\n",
    "    print(e)\n",
    "finally:\n",
    "    cursor.close()\n",
    "    con.close()"
   ]
  },
  {
   "cell_type": "code",
   "execution_count": 5,
   "id": "e0138254-9a5d-4c4b-b4de-419c3f03131f",
   "metadata": {},
   "outputs": [
    {
     "name": "stdin",
     "output_type": "stream",
     "text": [
      "Enter rollno :  7\n",
      "Enter name :  purnak\n",
      "Enter c marks :  70\n",
      "Enter cpp marks :  80\n",
      "Enter python marks :  75\n"
     ]
    },
    {
     "name": "stdout",
     "output_type": "stream",
     "text": [
      "Record Updated...\n"
     ]
    }
   ],
   "source": [
    "from mysql.connector import connect,Error\n",
    "\n",
    "try:\n",
    "    con = connect(host = \"localhost\", user = \"root\", password = \"jadeja6\", database = \"dbstudent\")\n",
    "    cursor = con.cursor()\n",
    "    rno = int(input(\"Enter rollno : \"))\n",
    "    sname = input(\"Enter name : \")\n",
    "    c = int(input(\"Enter c marks : \"))\n",
    "    cpp = int(input(\"Enter cpp marks : \"))\n",
    "    py = int(input(\"Enter python marks : \"))\n",
    "    cursor.callproc('Update1',(rno,sname,c,cpp,py,))\n",
    "    con.commit()\n",
    "    print(\"Record Updated...\")\n",
    "except Error as e:\n",
    "    print(e)\n",
    "finally:\n",
    "    cursor.close()\n",
    "    con.close()"
   ]
  },
  {
   "cell_type": "markdown",
   "id": "928e38e4-91b4-4d52-8191-18e115bf352f",
   "metadata": {},
   "source": [
    "<h5>DELETE PROCEDURE </h5>"
   ]
  },
  {
   "cell_type": "code",
   "execution_count": 16,
   "id": "b16a6815-0142-45a3-ad6c-7948ea021a0b",
   "metadata": {},
   "outputs": [
    {
     "name": "stdout",
     "output_type": "stream",
     "text": [
      "Procedure Created...\n"
     ]
    }
   ],
   "source": [
    "from mysql.connector import connect,Error\n",
    "\n",
    "try:\n",
    "    con = connect(host = \"localhost\", user = \"root\", password = \"jadeja6\", database = \"dbstudent\")\n",
    "    cursor = con.cursor()\n",
    "    sql = \"\"\" create procedure Delete1(in s_name varchar(30))\n",
    "    begin\n",
    "    delete from tblstudent where name = s_name;\n",
    "    end\"\"\"\n",
    "    cursor.execute(sql)\n",
    "    print(\"Procedure Created...\")\n",
    "except Error as e:\n",
    "    print(e)\n",
    "finally:\n",
    "    cursor.close()\n",
    "    con.close()"
   ]
  },
  {
   "cell_type": "code",
   "execution_count": 18,
   "id": "0cf8eccd-307c-4748-a9a6-7bede101d18a",
   "metadata": {},
   "outputs": [
    {
     "name": "stdin",
     "output_type": "stream",
     "text": [
      "Enter name :  Devyant\n"
     ]
    },
    {
     "name": "stdout",
     "output_type": "stream",
     "text": [
      "Record Deleted...\n"
     ]
    }
   ],
   "source": [
    "from mysql.connector import connect,Error\n",
    "\n",
    "try:\n",
    "    con = connect(host = \"localhost\", user = \"root\", password = \"jadeja6\", database = \"dbstudent\")\n",
    "    cursor = con.cursor()\n",
    "    sname = input(\"Enter name : \")\n",
    "    cursor.callproc('Delete1',(sname,))\n",
    "    con.commit()\n",
    "    print(\"Record Deleted...\")\n",
    "except Error as e:\n",
    "    print(e)\n",
    "finally:\n",
    "    cursor.close()\n",
    "    con.close()"
   ]
  },
  {
   "cell_type": "markdown",
   "id": "20cbfa0e-0a9f-4304-9f5f-f02304f3b097",
   "metadata": {},
   "source": [
    "<H5> SEARCH PROCEDURE </h5>"
   ]
  },
  {
   "cell_type": "code",
   "execution_count": 23,
   "id": "27ac5ffa-4067-44ca-995a-e311cd84402e",
   "metadata": {},
   "outputs": [
    {
     "name": "stdout",
     "output_type": "stream",
     "text": [
      "Procedure Created...\n"
     ]
    }
   ],
   "source": [
    "from mysql.connector import connect,Error\n",
    "\n",
    "try:\n",
    "    con = connect(host = \"localhost\", user = \"root\", password = \"jadeja6\", database = \"dbstudent\")\n",
    "    cursor = con.cursor()\n",
    "    sql = \"\"\" create procedure SearchRec(in py_marks varchar(30))\n",
    "    begin\n",
    "    select * from tblstudent where pythonmarks <= py_marks;\n",
    "    end\"\"\"\n",
    "    cursor.execute(sql)\n",
    "    print(\"Procedure Created...\")\n",
    "except Error as e:\n",
    "    print(e)\n",
    "finally:\n",
    "    cursor.close()\n",
    "    con.close()"
   ]
  },
  {
   "cell_type": "code",
   "execution_count": 29,
   "id": "8cd1df56-940f-4a22-bc44-e2c1c154bbd1",
   "metadata": {},
   "outputs": [
    {
     "name": "stdin",
     "output_type": "stream",
     "text": [
      "Enter python marks to serch record :  80\n"
     ]
    },
    {
     "name": "stdout",
     "output_type": "stream",
     "text": [
      "Records having python marks less than or equal to  80\n",
      "*---*------*----*----*----*\n",
      "(1, 'Mayur', 70, 90, 70)\n",
      "*---*------*----*----*----*\n",
      "(3, 'Krutik', 90, 60, 40)\n",
      "*---*------*----*----*----*\n",
      "(5, 'rudrik', 70, 90, 50)\n",
      "*---*------*----*----*----*\n",
      "(6, 'harsh', 70, 70, 60)\n",
      "*---*------*----*----*----*\n",
      "(7, 'purnak', 70, 10, 10)\n",
      "*---*------*----*----*----*\n",
      "(9, 'kunal', 70, 50, 50)\n"
     ]
    }
   ],
   "source": [
    "from mysql.connector import connect,Error\n",
    "\n",
    "try:\n",
    "    con = connect(host = \"localhost\", user = \"root\", password = \"jadeja6\", database = \"dbstudent\")\n",
    "    cursor = con.cursor()\n",
    "    pymarks = input(\"Enter python marks to serch record : \")\n",
    "    cursor.callproc('SearchRec',(pymarks,))\n",
    "    con.commit()\n",
    "    print(\"Records having python marks less than or equal to \",pymarks)\n",
    "    for r in cursor.stored_results():\n",
    "        for row in r.fetchall():\n",
    "            print(\"*---*------*----*----*----*\")\n",
    "            print(row)\n",
    "except Error as e:\n",
    "    print(e)\n",
    "finally:\n",
    "    cursor.close()\n",
    "    con.close()"
   ]
  },
  {
   "cell_type": "code",
   "execution_count": null,
   "id": "4384347d-08ad-4ecc-af3e-792273fb7f55",
   "metadata": {},
   "outputs": [],
   "source": []
  }
 ],
 "metadata": {
  "kernelspec": {
   "display_name": "Python 3 (ipykernel)",
   "language": "python",
   "name": "python3"
  },
  "language_info": {
   "codemirror_mode": {
    "name": "ipython",
    "version": 3
   },
   "file_extension": ".py",
   "mimetype": "text/x-python",
   "name": "python",
   "nbconvert_exporter": "python",
   "pygments_lexer": "ipython3",
   "version": "3.12.7"
  }
 },
 "nbformat": 4,
 "nbformat_minor": 5
}
